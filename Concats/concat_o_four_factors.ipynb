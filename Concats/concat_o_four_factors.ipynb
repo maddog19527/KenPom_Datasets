{
 "cells": [
  {
   "cell_type": "code",
   "execution_count": 2,
   "metadata": {},
   "outputs": [],
   "source": [
    "import pandas as pd \n",
    "import numpy as np \n",
    "\n",
    "o_25=pd.read_csv('offense25.csv')\n",
    "o_24=pd.read_csv('offense24.csv')\n",
    "o_23=pd.read_csv('offense23.csv')\n",
    "o_22=pd.read_csv('offense22.csv')\n",
    "o_21=pd.read_csv('offense21.csv')\n",
    "o_20=pd.read_csv('offense20.csv')\n",
    "o_19=pd.read_csv('offense19.csv')\n",
    "o_18=pd.read_csv('offense18.csv')\n",
    "o_17=pd.read_csv('offense17.csv')\n",
    "o_16=pd.read_csv('offense16.csv')\n",
    "o_15=pd.read_csv('offense15.csv')\n",
    "o_14=pd.read_csv('offense14.csv')\n",
    "o_13=pd.read_csv('offense13.csv')\n",
    "o_12=pd.read_csv('offense12.csv')\n",
    "o_11=pd.read_csv('offense11.csv')\n",
    "o_10=pd.read_csv('offense10.csv')\n",
    "o_09=pd.read_csv('offense09.csv')\n",
    "o_08=pd.read_csv('offense08.csv')\n",
    "o_07=pd.read_csv('offense07.csv')\n",
    "o_06=pd.read_csv('offense06.csv')\n",
    "o_05=pd.read_csv('offense05.csv')\n",
    "o_04=pd.read_csv('offense04.csv')\n",
    "o_03=pd.read_csv('offense03.csv')\n",
    "o_02=pd.read_csv('offense02.csv')\n",
    "\n",
    "\n",
    "offense_to_17=pd.concat([o_25,o_24,o_23,o_22,o_21,o_20,o_19,o_18,o_17])\n",
    "offense_from_17=pd.concat([o_16,o_15,o_14,o_13,o_12,o_11,o_10,o_09,o_08,o_07,o_06,o_05,o_04,o_03,o_02])\n",
    "\n",
    "\n",
    "offense_to_17=offense_to_17[offense_to_17.columns.drop(list(offense_to_17.filter(regex='_')))]\n",
    "\n",
    "offense_from_17.columns=offense_from_17.columns.str.replace('_','',regex=False)\n",
    "\n",
    "offense=pd.concat([offense_to_17,offense_from_17])\n",
    "\n",
    "offense.to_csv('four_factors_offense.csv')\n"
   ]
  }
 ],
 "metadata": {
  "kernelspec": {
   "display_name": "Python 3",
   "language": "python",
   "name": "python3"
  },
  "language_info": {
   "codemirror_mode": {
    "name": "ipython",
    "version": 3
   },
   "file_extension": ".py",
   "mimetype": "text/x-python",
   "name": "python",
   "nbconvert_exporter": "python",
   "pygments_lexer": "ipython3",
   "version": "3.9.6"
  }
 },
 "nbformat": 4,
 "nbformat_minor": 2
}
