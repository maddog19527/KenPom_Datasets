{
 "cells": [
  {
   "cell_type": "code",
   "execution_count": 8,
   "metadata": {},
   "outputs": [],
   "source": [
    "import pandas as pd \n",
    "import numpy as np \n",
    "\n",
    "d_01=pd.read_csv('p1.csv')\n",
    "d_07=pd.read_csv('p7.csv')\n",
    "d_08=pd.read_csv('p8.csv')\n",
    "d_09=pd.read_csv('p9.csv')\n",
    "d_10=pd.read_csv('p10.csv')\n",
    "d_11=pd.read_csv('p11.csv')\n",
    "d_12=pd.read_csv('p12.csv')\n",
    "d_13=pd.read_csv('p13.csv')\n",
    "d_14=pd.read_csv('p14.csv')\n",
    "d_15=pd.read_csv('p15.csv')\n",
    "d_16=pd.read_csv('p16.csv')\n",
    "d_17=pd.read_csv('p17.csv')\n",
    "d_18=pd.read_csv('p18.csv')\n",
    "d_19=pd.read_csv('p19.csv')\n",
    "d_20=pd.read_csv('p20.csv')\n",
    "d_21=pd.read_csv('p21.csv')\n",
    "d_22=pd.read_csv('p22.csv')\n",
    "d_23=pd.read_csv('p23.csv')\n",
    "d_24=pd.read_csv('p24.csv')\n",
    "d_25=pd.read_csv('p25.csv')\n",
    "d_26=pd.read_csv('p26.csv')\n",
    "d_27=pd.read_csv('p27.csv')\n",
    "d_28=pd.read_csv('p28.csv')\n",
    "d_29=pd.read_csv('p29.csv')\n",
    "\n",
    "\n",
    "defense=pd.concat([d_29, d_28, d_27, d_26, d_25, d_24, d_23, d_22, d_21, d_20, d_19, d_18, d_17, d_16,d_15,d_14,d_13,d_12,d_11,d_10,d_09,d_08,d_07,d_01])\n",
    "\n",
    "\n",
    "\n",
    "defense.to_csv('shot distribution.csv')"
   ]
  }
 ],
 "metadata": {
  "kernelspec": {
   "display_name": "Python 3",
   "language": "python",
   "name": "python3"
  },
  "language_info": {
   "codemirror_mode": {
    "name": "ipython",
    "version": 3
   },
   "file_extension": ".py",
   "mimetype": "text/x-python",
   "name": "python",
   "nbconvert_exporter": "python",
   "pygments_lexer": "ipython3",
   "version": "3.9.6"
  }
 },
 "nbformat": 4,
 "nbformat_minor": 2
}
