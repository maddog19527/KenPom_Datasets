{
 "cells": [
  {
   "cell_type": "code",
   "execution_count": 3,
   "metadata": {},
   "outputs": [],
   "source": [
    "import pandas as pd \n",
    "import numpy as np \n",
    "\n",
    "demo25=pd.read_csv('height25.csv')\n",
    "demo24=pd.read_csv('height24.csv')\n",
    "demo23=pd.read_csv('height23.csv')\n",
    "demo22=pd.read_csv('height22.csv')\n",
    "demo21=pd.read_csv('height21.csv')\n",
    "demo20=pd.read_csv('height20.csv')\n",
    "demo19=pd.read_csv('height19.csv')\n",
    "demo18=pd.read_csv('height18.csv')\n",
    "demo17=pd.read_csv('height17 (1).csv')\n",
    "demo15=pd.read_csv('height15.csv')\n",
    "demo14=pd.read_csv('height14.csv')\n",
    "demo13=pd.read_csv('height13.csv')\n",
    "demo12=pd.read_csv('height12.csv')\n",
    "demo11=pd.read_csv('height11.csv')\n",
    "demo10=pd.read_csv('height10.csv')\n",
    "demo09=pd.read_csv('height09.csv')\n",
    "demo08=pd.read_csv('height08.csv')\n",
    "demo07=pd.read_csv('height07.csv')\n",
    "\n",
    "\n",
    "demos=pd.concat([demo25,demo24,demo23,demo22,demo21,demo20,demo19,demo18,demo17,demo15,demo14,demo13,demo12,demo11,demo10,demo09,demo08,demo07])\n",
    "\n",
    "demos.columns=demos.columns.str.replace('\"','', regex=False)\n",
    "\n",
    "demos.to_csv('demographics.csv')\n"
   ]
  }
 ],
 "metadata": {
  "kernelspec": {
   "display_name": "Python 3",
   "language": "python",
   "name": "python3"
  },
  "language_info": {
   "codemirror_mode": {
    "name": "ipython",
    "version": 3
   },
   "file_extension": ".py",
   "mimetype": "text/x-python",
   "name": "python",
   "nbconvert_exporter": "python",
   "pygments_lexer": "ipython3",
   "version": "3.9.6"
  }
 },
 "nbformat": 4,
 "nbformat_minor": 2
}
