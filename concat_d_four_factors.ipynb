{
 "cells": [
  {
   "cell_type": "code",
   "execution_count": 4,
   "metadata": {},
   "outputs": [],
   "source": [
    "import pandas as pd \n",
    "import numpy as np \n",
    "\n",
    "d_25=pd.read_csv('defense25.csv')\n",
    "d_24=pd.read_csv('defense24.csv')\n",
    "d_23=pd.read_csv('defense23.csv')\n",
    "d_22=pd.read_csv('defense22.csv')\n",
    "d_21=pd.read_csv('defense21.csv')\n",
    "d_20=pd.read_csv('defense20.csv')\n",
    "d_19=pd.read_csv('defense19.csv')\n",
    "d_18=pd.read_csv('defense18.csv')\n",
    "d_17=pd.read_csv('defense17.csv')\n",
    "d_16=pd.read_csv('defense16.csv')\n",
    "d_15=pd.read_csv('defense15.csv')\n",
    "d_14=pd.read_csv('defense14.csv')\n",
    "d_13=pd.read_csv('defense13.csv')\n",
    "d_12=pd.read_csv('defense12.csv')\n",
    "d_11=pd.read_csv('defense11.csv')\n",
    "d_10=pd.read_csv('defense10.csv')\n",
    "d_09=pd.read_csv('defense09.csv')\n",
    "d_08=pd.read_csv('defense08.csv')\n",
    "d_07=pd.read_csv('defense07.csv')\n",
    "d_06=pd.read_csv('defense06.csv')\n",
    "d_05=pd.read_csv('defense05.csv')\n",
    "d_04=pd.read_csv('defense04.csv')\n",
    "d_03=pd.read_csv('defense03.csv')\n",
    "d_02=pd.read_csv('defense02.csv')\n",
    "\n",
    "\n",
    "defense_to_17=pd.concat([d_25,d_24,d_23,d_22,d_21,d_20,d_19,d_18,d_17])\n",
    "defense_from_17=pd.concat([d_16,d_15,d_14,d_13,d_12,d_11,d_10,d_09,d_08,d_07,d_06,d_05,d_04,d_03,d_02])\n",
    "\n",
    "\n",
    "defense_to_17=defense_to_17[defense_to_17.columns.drop(list(defense_to_17.filter(regex='_')))]\n",
    "\n",
    "defense_from_17.columns=defense_from_17.columns.str.replace('_','',regex=False)\n",
    "\n",
    "defense=pd.concat([defense_to_17,defense_from_17])\n",
    "\n",
    "defense.to_csv('four_factors_defense.csv')\n"
   ]
  }
 ],
 "metadata": {
  "kernelspec": {
   "display_name": "Python 3",
   "language": "python",
   "name": "python3"
  },
  "language_info": {
   "codemirror_mode": {
    "name": "ipython",
    "version": 3
   },
   "file_extension": ".py",
   "mimetype": "text/x-python",
   "name": "python",
   "nbconvert_exporter": "python",
   "pygments_lexer": "ipython3",
   "version": "3.9.6"
  }
 },
 "nbformat": 4,
 "nbformat_minor": 2
}
