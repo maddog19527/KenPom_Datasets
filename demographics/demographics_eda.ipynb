{
 "cells": [
  {
   "cell_type": "code",
   "execution_count": 1,
   "metadata": {},
   "outputs": [],
   "source": [
    "import numpy as np \n",
    "import pandas as pd \n",
    "import matplotlib.pyplot as plt\n",
    "import seaborn as sns\n",
    "from scipy.stats import shapiro\n",
    "import re\n",
    "\n",
    "# demos=pd.read_csv('demographics.csv')\n",
    "# demos.drop(demos[demos['Season']==2016].index, inplace=True)\n",
    "# demos.drop(columns='Unnamed: 0', inplace=True, axis=1)\n",
    "# demos.info()\n"
   ]
  },
  {
   "cell_type": "markdown",
   "metadata": {},
   "source": [
    "I notice that for 2016, the column contain the names of positions instead of numbers. I am going to use height16edits.ipynb to make changes to that year and re-insert the data."
   ]
  },
  {
   "cell_type": "markdown",
   "metadata": {},
   "source": [
    "The formatting needed to combine the datasets is done, so we can remove the code from our runs."
   ]
  },
  {
   "cell_type": "code",
   "execution_count": 2,
   "metadata": {},
   "outputs": [],
   "source": [
    "# sixteen=pd.read_csv('sixteen.csv')\n",
    "# sixteen=sixteen.drop(columns='Unnamed: 0',axis=1)\n",
    "# print(demos.columns)\n",
    "# print(sixteen.columns)"
   ]
  },
  {
   "cell_type": "code",
   "execution_count": 3,
   "metadata": {},
   "outputs": [],
   "source": [
    "\n",
    "# cols_sixteen = set(sixteen.columns)\n",
    "# cols_demos = set(demos.columns)\n",
    "\n",
    "# only_in_sixteen = cols_sixteen - cols_demos\n",
    "# only_in_demos = cols_demos - cols_sixteen\n",
    "\n",
    "# print(\"Columns in sixteen but not in demos:\", only_in_sixteen)\n",
    "# print(\"Columns in demos but not in sixteen:\", only_in_demos)\n",
    "# demos=demos.drop(columns=only_in_demos, axis=1)"
   ]
  },
  {
   "cell_type": "code",
   "execution_count": 4,
   "metadata": {},
   "outputs": [],
   "source": [
    "# demos.head()"
   ]
  },
  {
   "cell_type": "code",
   "execution_count": 5,
   "metadata": {},
   "outputs": [],
   "source": [
    "# demofinal=pd.merge(sixteen, demos, on=['Season','TeamName','Size','SizeRank','Hgt5','Hgt5Rank','Hgt4','Hgt4Rank','Hgt3','Hgt3Rank','Hgt2','Hgt2Rank','Hgt1','Hgt1Rank','HgtEff','HgtEffRank','Exp','ExpRank','Bench','BenchRank','Pts5','Pts5Rank','Pts4','Pts4Rank','Pts3','Pts3Rank','Pts2','Pts2Rank','Pts1','Pts1Rank','OR5','OR5Rank','OR4','OR4Rank','OR3','OR3Rank','OR2','OR2Rank','OR1','OR1Rank','DR5','DR5Rank','DR4','DR4Rank','DR3','DR3Rank','DR2','DR2Rank','DR1','DR1Rank'], how='outer')"
   ]
  },
  {
   "cell_type": "code",
   "execution_count": 6,
   "metadata": {},
   "outputs": [],
   "source": [
    "# demofinal.to_csv('finalheights.csv')"
   ]
  },
  {
   "cell_type": "code",
   "execution_count": 7,
   "metadata": {},
   "outputs": [],
   "source": [
    "demofinal=pd.read_csv('finalheights.csv')"
   ]
  },
  {
   "cell_type": "code",
   "execution_count": 8,
   "metadata": {},
   "outputs": [],
   "source": [
    "demofinal=demofinal[demofinal.columns.drop(list(demofinal.filter(regex='Rank')))]"
   ]
  },
  {
   "cell_type": "code",
   "execution_count": 9,
   "metadata": {},
   "outputs": [],
   "source": [
    "# demofinal.drop(columns='Unnamed: 0')"
   ]
  },
  {
   "cell_type": "code",
   "execution_count": null,
   "metadata": {},
   "outputs": [],
   "source": [
    "demofinal.info()"
   ]
  },
  {
   "cell_type": "code",
   "execution_count": 11,
   "metadata": {},
   "outputs": [],
   "source": [
    "demofinal=demofinal[demofinal['Size'] !=0]\n",
    "demofinal.drop(columns='Unnamed: 0', inplace=True, axis=1)"
   ]
  },
  {
   "cell_type": "markdown",
   "metadata": {},
   "source": [
    "We have "
   ]
  },
  {
   "cell_type": "code",
   "execution_count": null,
   "metadata": {},
   "outputs": [],
   "source": [
    "numerical=demofinal.select_dtypes(exclude='object')\n",
    "for col in numerical:\n",
    "    fig, ax=plt.subplots()\n",
    "    ax.boxplot(numerical[col])\n",
    "    ax.set_title(f'Boxplot for {col}')\n",
    "    ax.set_xlabel('Data')\n",
    "    ax.set_ylabel('Values')\n",
    "plt.show()"
   ]
  },
  {
   "cell_type": "code",
   "execution_count": null,
   "metadata": {},
   "outputs": [],
   "source": [
    "for col in numerical:\n",
    "    top_10=demofinal.nlargest(10, col)\n",
    "    for index,row in top_10.iterrows():\n",
    "        top_10.at[index, 'NameSeason']= f\"{row['TeamName']} {row['Season']}\"\n",
    "    sns.barplot(x=top_10[col],y=top_10['NameSeason'])\n",
    "    plt.title(f'Top 10 teams by {col}')\n",
    "    plt.xlabel(f'{col}')\n",
    "    plt.show()\n"
   ]
  },
  {
   "cell_type": "code",
   "execution_count": null,
   "metadata": {},
   "outputs": [],
   "source": [
    "for col in numerical:\n",
    "    top_10=demofinal.nsmallest(10, col)\n",
    "    for index,row in top_10.iterrows():\n",
    "        top_10.at[index, 'NameSeason']= f\"{row['TeamName']} {row['Season']}\"\n",
    "    sns.barplot(x=top_10[col],y=top_10['NameSeason'])\n",
    "    plt.title(f'Bottom 10 teams by {col}')\n",
    "    plt.xlabel(f'{col}')\n",
    "    plt.show()"
   ]
  },
  {
   "cell_type": "markdown",
   "metadata": {},
   "source": [
    "We run into the same problem as before with teams that opted out of the pandemic year.\n",
    "Because those teams do not have rosters (and therefore Size values of 0.0), we can easily drop them."
   ]
  },
  {
   "cell_type": "code",
   "execution_count": 15,
   "metadata": {},
   "outputs": [],
   "source": [
    "demofinal=demofinal[demofinal['Size'] > 0.0]"
   ]
  },
  {
   "cell_type": "code",
   "execution_count": null,
   "metadata": {},
   "outputs": [],
   "source": [
    "demofinal.info()"
   ]
  },
  {
   "cell_type": "markdown",
   "metadata": {},
   "source": [
    "Skewness and Kurtosis of Data"
   ]
  },
  {
   "cell_type": "code",
   "execution_count": null,
   "metadata": {},
   "outputs": [],
   "source": [
    "numerical=demofinal.select_dtypes(exclude='object')\n",
    "numerical.skew(axis=0, skipna=True)"
   ]
  },
  {
   "cell_type": "code",
   "execution_count": null,
   "metadata": {},
   "outputs": [],
   "source": [
    "numerical.kurtosis(axis=0,skipna=True)"
   ]
  },
  {
   "cell_type": "markdown",
   "metadata": {},
   "source": [
    "The issues in this dataset appear to be arising from the Offensive and Defensive Rebounding columns; this may be caused by outliers, which have been appearing in the visualizations.\n",
    "I may have to run IQR drops on the offending columns to correct the issue."
   ]
  },
  {
   "cell_type": "markdown",
   "metadata": {},
   "source": [
    "Correlation Analysis, broken up by relevant information clusters (experience, height, rebounding numbers)"
   ]
  },
  {
   "cell_type": "code",
   "execution_count": null,
   "metadata": {},
   "outputs": [],
   "source": [
    "mask=numerical.columns.str.contains('Hgt|Exp|Bench', regex=True)\n",
    "masktwo=numerical.columns.str.contains('Pts', regex=True)\n",
    "maskthree=numerical.columns.str.contains('OR|DR',regex=True)\n",
    "height_exp=numerical.loc[:,mask]\n",
    "Pts=numerical.loc[:,masktwo]\n",
    "Res=numerical.loc[:,maskthree]\n",
    "\n",
    "for x in (height_exp,Pts,Res):\n",
    "    pearson=x.corr(method='pearson')\n",
    "    spearman=x.corr(method='spearman')\n",
    "    plt.figure(figsize=(10,8))\n",
    "    sns.heatmap(pearson, annot=True, cmap='coolwarm')\n",
    "    plt.title('Pearson Correlation Matrix')\n",
    "    plt.show()  \n",
    "\n",
    "    plt.figure(figsize=(10,8))\n",
    "    sns.heatmap(spearman, annot=True, cmap='coolwarm')\n",
    "    plt.title('Spearman Correlation Matrix')\n",
    "    plt.show()"
   ]
  },
  {
   "cell_type": "markdown",
   "metadata": {},
   "source": [
    "Variance Inflation Factor for each subset of the demographic data"
   ]
  },
  {
   "cell_type": "code",
   "execution_count": null,
   "metadata": {},
   "outputs": [],
   "source": [
    "from statsmodels.stats.outliers_influence import variance_inflation_factor \n",
    "for x in (height_exp,Pts,Res):\n",
    "    vif_data=pd.DataFrame()\n",
    "    vif_data['features']=x.columns\n",
    "    vif_data['VIF']=[variance_inflation_factor(x.values,i) for i in range(len(x.columns))]\n",
    "    print(vif_data)\n",
    "\n",
    "    vif_data = vif_data.sort_values(by=\"VIF\", ascending=False)\n",
    "\n",
    "\n",
    "    plt.figure(figsize=(10, 6))\n",
    "    plt.barh(vif_data[\"features\"], vif_data[\"VIF\"], color=\"skyblue\")\n",
    "    plt.xlabel(\"Variance Inflation Factor (VIF)\")\n",
    "    plt.ylabel(\"Feature\")\n",
    "    plt.title(\"VIF Analysis for Multicollinearity\")\n",
    "    plt.gca().invert_yaxis()  \n",
    "    plt.show()"
   ]
  },
  {
   "cell_type": "markdown",
   "metadata": {},
   "source": [
    "Multivariate Analysis "
   ]
  },
  {
   "cell_type": "code",
   "execution_count": 21,
   "metadata": {},
   "outputs": [],
   "source": [
    "demofinal['Team/Year']=demofinal['Season'].astype(str) + ' ' +demofinal['TeamName']\n",
    "\n",
    "demofinal=demofinal.drop(columns=['Season','TeamName'], axis=1)"
   ]
  },
  {
   "cell_type": "code",
   "execution_count": 22,
   "metadata": {},
   "outputs": [],
   "source": [
    "popper=demofinal.pop('Team/Year')\n",
    "demofinal.insert(0,'Team/Year',popper)"
   ]
  },
  {
   "cell_type": "code",
   "execution_count": null,
   "metadata": {},
   "outputs": [],
   "source": [
    "import plotly.express as px\n",
    "fig = px.scatter(\n",
    "demofinal,\n",
    "x='HgtEff',\n",
    "y='Exp',\n",
    "hover_name='Team/Year',\n",
    "title='relationship between effective height and average experience'\n",
    ")\n",
    "fig.show()"
   ]
  },
  {
   "cell_type": "code",
   "execution_count": null,
   "metadata": {},
   "outputs": [],
   "source": [
    "fig = px.scatter(\n",
    "demofinal,\n",
    "x='HgtEff',\n",
    "y='Hgt3',\n",
    "hover_name='Team/Year',\n",
    "title='Finding teams whose effective height are most closely tied to the heights of their small forwards'\n",
    ")\n",
    "fig.show()"
   ]
  }
 ],
 "metadata": {
  "kernelspec": {
   "display_name": "Python 3",
   "language": "python",
   "name": "python3"
  },
  "language_info": {
   "codemirror_mode": {
    "name": "ipython",
    "version": 3
   },
   "file_extension": ".py",
   "mimetype": "text/x-python",
   "name": "python",
   "nbconvert_exporter": "python",
   "pygments_lexer": "ipython3",
   "version": "3.9.6"
  }
 },
 "nbformat": 4,
 "nbformat_minor": 2
}
