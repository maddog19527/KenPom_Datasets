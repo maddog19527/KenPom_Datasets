{
 "cells": [
  {
   "cell_type": "code",
   "execution_count": 15,
   "metadata": {},
   "outputs": [
    {
     "name": "stdout",
     "output_type": "stream",
     "text": [
      "<class 'pandas.core.frame.DataFrame'>\n",
      "RangeIndex: 8314 entries, 0 to 8313\n",
      "Data columns (total 11 columns):\n",
      " #   Column      Non-Null Count  Dtype  \n",
      "---  ------      --------------  -----  \n",
      " 0   Unnamed: 0  8314 non-null   int64  \n",
      " 1   Season      8314 non-null   int64  \n",
      " 2   TeamName    8314 non-null   object \n",
      " 3   eFGPct      8314 non-null   float64\n",
      " 4   RankeFGPct  8314 non-null   int64  \n",
      " 5   TOPct       8314 non-null   float64\n",
      " 6   RankTOPct   8314 non-null   int64  \n",
      " 7   ORPct       8314 non-null   float64\n",
      " 8   RankORPct   8314 non-null   int64  \n",
      " 9   FTRate      8314 non-null   float64\n",
      " 10  RankFTRate  8314 non-null   int64  \n",
      "dtypes: float64(4), int64(6), object(1)\n",
      "memory usage: 714.6+ KB\n"
     ]
    }
   ],
   "source": [
    "import numpy as np \n",
    "import pandas as pd \n",
    "import matplotlib.pyplot as plt\n",
    "import seaborn as sns\n",
    "from scipy.stats import shapiro\n",
    "\n",
    "defense=pd.read_csv('four_factors_defense.csv')\n",
    "defense.info()"
   ]
  },
  {
   "cell_type": "markdown",
   "metadata": {},
   "source": [
    "Drop rankings by year, and index column; these ranking are not relevant since we have compiled data from every year since 2002"
   ]
  },
  {
   "cell_type": "code",
   "execution_count": 16,
   "metadata": {},
   "outputs": [],
   "source": [
    "defense=defense.drop(columns=['Unnamed: 0','RankeFGPct','RankTOPct','RankORPct','RankFTRate'],axis=1)"
   ]
  },
  {
   "cell_type": "markdown",
   "metadata": {},
   "source": [
    "Combine 'Season' and 'TeamName' columns so we can more easily identify teams"
   ]
  },
  {
   "cell_type": "code",
   "execution_count": 17,
   "metadata": {},
   "outputs": [],
   "source": [
    "defense['Team/Year']=defense['Season'].astype(str) + ' ' +defense['TeamName']\n",
    "\n",
    "defense=defense.drop(columns=['Season','TeamName'], axis=1)\n"
   ]
  },
  {
   "cell_type": "code",
   "execution_count": 18,
   "metadata": {},
   "outputs": [
    {
     "data": {
      "text/html": [
       "<div>\n",
       "<style scoped>\n",
       "    .dataframe tbody tr th:only-of-type {\n",
       "        vertical-align: middle;\n",
       "    }\n",
       "\n",
       "    .dataframe tbody tr th {\n",
       "        vertical-align: top;\n",
       "    }\n",
       "\n",
       "    .dataframe thead th {\n",
       "        text-align: right;\n",
       "    }\n",
       "</style>\n",
       "<table border=\"1\" class=\"dataframe\">\n",
       "  <thead>\n",
       "    <tr style=\"text-align: right;\">\n",
       "      <th></th>\n",
       "      <th>eFGPct</th>\n",
       "      <th>TOPct</th>\n",
       "      <th>ORPct</th>\n",
       "      <th>FTRate</th>\n",
       "      <th>Team/Year</th>\n",
       "    </tr>\n",
       "  </thead>\n",
       "  <tbody>\n",
       "    <tr>\n",
       "      <th>0</th>\n",
       "      <td>53.568030</td>\n",
       "      <td>23.406179</td>\n",
       "      <td>30.112721</td>\n",
       "      <td>52.711703</td>\n",
       "      <td>2025 Abilene Christian</td>\n",
       "    </tr>\n",
       "    <tr>\n",
       "      <th>1</th>\n",
       "      <td>54.512106</td>\n",
       "      <td>15.831910</td>\n",
       "      <td>28.934010</td>\n",
       "      <td>34.776229</td>\n",
       "      <td>2025 Air Force</td>\n",
       "    </tr>\n",
       "    <tr>\n",
       "      <th>2</th>\n",
       "      <td>49.000740</td>\n",
       "      <td>17.665107</td>\n",
       "      <td>28.846154</td>\n",
       "      <td>34.196891</td>\n",
       "      <td>2025 Akron</td>\n",
       "    </tr>\n",
       "    <tr>\n",
       "      <th>3</th>\n",
       "      <td>46.088539</td>\n",
       "      <td>13.717892</td>\n",
       "      <td>29.952153</td>\n",
       "      <td>30.927835</td>\n",
       "      <td>2025 Alabama</td>\n",
       "    </tr>\n",
       "    <tr>\n",
       "      <th>4</th>\n",
       "      <td>54.434500</td>\n",
       "      <td>20.866170</td>\n",
       "      <td>37.826685</td>\n",
       "      <td>47.274207</td>\n",
       "      <td>2025 Alabama A&amp;M</td>\n",
       "    </tr>\n",
       "  </tbody>\n",
       "</table>\n",
       "</div>"
      ],
      "text/plain": [
       "      eFGPct      TOPct      ORPct     FTRate               Team/Year\n",
       "0  53.568030  23.406179  30.112721  52.711703  2025 Abilene Christian\n",
       "1  54.512106  15.831910  28.934010  34.776229          2025 Air Force\n",
       "2  49.000740  17.665107  28.846154  34.196891              2025 Akron\n",
       "3  46.088539  13.717892  29.952153  30.927835            2025 Alabama\n",
       "4  54.434500  20.866170  37.826685  47.274207        2025 Alabama A&M"
      ]
     },
     "execution_count": 18,
     "metadata": {},
     "output_type": "execute_result"
    }
   ],
   "source": [
    "defense.head()"
   ]
  },
  {
   "cell_type": "code",
   "execution_count": 19,
   "metadata": {},
   "outputs": [
    {
     "name": "stdout",
     "output_type": "stream",
     "text": [
      "p-value for eFGPct is not normally distributed\n",
      "p-value for TOPct is not normally distributed\n",
      "p-value for FTRate is not normally distributed\n",
      "p-value for ORPct is not normally distributed\n"
     ]
    },
    {
     "name": "stderr",
     "output_type": "stream",
     "text": [
      "/Users/michaelgriffin/Library/Python/3.9/lib/python/site-packages/scipy/stats/_axis_nan_policy.py:531: UserWarning: scipy.stats.shapiro: For N > 5000, computed p-value may not be accurate. Current N is 8314.\n",
      "  res = hypotest_fun_out(*samples, **kwds)\n"
     ]
    }
   ],
   "source": [
    "numerical=defense[['eFGPct','TOPct','FTRate','ORPct']].copy(deep=True)\n",
    "for col in numerical:\n",
    "    statistic,p_value=shapiro(numerical[col])\n",
    "    if p_value >0.05:\n",
    "        print(f'p-value for {col} is normally distributed') \n",
    "    else:\n",
    "        print(f'p-value for {col} is not normally distributed')"
   ]
  },
  {
   "cell_type": "code",
   "execution_count": 20,
   "metadata": {},
   "outputs": [
    {
     "data": {
      "image/png": "[encoded data removed]",
      "text/plain": [
       "<Figure size 640x480 with 1 Axes>"
      ]
     },
     "metadata": {},
     "output_type": "display_data"
    },
    {
     "data": {
      "image/png": "[encoded data removed]",
      "text/plain": [
       "<Figure size 640x480 with 1 Axes>"
      ]
     },
     "metadata": {},
     "output_type": "display_data"
    },
    {
     "data": {
      "image/png": "[encoded data removed]",
      "text/plain": [
       "<Figure size 640x480 with 1 Axes>"
      ]
     },
     "metadata": {},
     "output_type": "display_data"
    },
    {
     "data": {
      "image/png": "[encoded data removed]",
      "text/plain": [
       "<Figure size 640x480 with 1 Axes>"
      ]
     },
     "metadata": {},
     "output_type": "display_data"
    }
   ],
   "source": [
    "for col in numerical:\n",
    "    fig, ax=plt.subplots()\n",
    "    ax.boxplot(numerical[col])\n",
    "    ax.set_title(f'Boxplot for {col}')\n",
    "    ax.set_xlabel('Data')\n",
    "    ax.set_ylabel('Values')\n",
    "plt.show()"
   ]
  },
  {
   "cell_type": "markdown",
   "metadata": {},
   "source": [
    "Identifying Minimum and Maximum values for four factors, and the number of occurrences of each minimum and maximum in the dataset"
   ]
  },
  {
   "cell_type": "code",
   "execution_count": 21,
   "metadata": {},
   "outputs": [
    {
     "name": "stdout",
     "output_type": "stream",
     "text": [
      "maximum value for eFGPct: 100.0\n",
      "occurrences for max in eFGPct: 10\n",
      "teams with maximum value for eFGPct:       eFGPct  TOPct  ORPct  FTRate                    Team/Year\n",
      "1470   100.0    0.0  100.0   100.0         2021 Bethune Cookman\n",
      "1477   100.0    0.0  100.0   100.0                   2021 Brown\n",
      "1505   100.0    0.0  100.0   100.0                2021 Columbia\n",
      "1508   100.0    0.0  100.0   100.0                 2021 Cornell\n",
      "1510   100.0    0.0  100.0   100.0               2021 Dartmouth\n",
      "1556   100.0    0.0  100.0   100.0                 2021 Harvard\n",
      "1609   100.0    0.0  100.0   100.0  2021 Maryland Eastern Shore\n",
      "1674   100.0    0.0  100.0   100.0                    2021 Penn\n",
      "1682   100.0    0.0  100.0   100.0               2021 Princeton\n",
      "1802   100.0    0.0  100.0   100.0                    2021 Yale\n",
      "maximum value for TOPct: 30.6673\n",
      "occurrences for max in TOPct: 1\n",
      "teams with maximum value for TOPct:        eFGPct    TOPct    ORPct   FTRate         Team/Year\n",
      "7990  48.3791  30.6673  39.2193  46.8828  2002 Alabama A&M\n",
      "maximum value for FTRate: 100.0\n",
      "occurrences for max in FTRate: 10\n",
      "teams with maximum value for FTRate:       eFGPct  TOPct  ORPct  FTRate                    Team/Year\n",
      "1470   100.0    0.0  100.0   100.0         2021 Bethune Cookman\n",
      "1477   100.0    0.0  100.0   100.0                   2021 Brown\n",
      "1505   100.0    0.0  100.0   100.0                2021 Columbia\n",
      "1508   100.0    0.0  100.0   100.0                 2021 Cornell\n",
      "1510   100.0    0.0  100.0   100.0               2021 Dartmouth\n",
      "1556   100.0    0.0  100.0   100.0                 2021 Harvard\n",
      "1609   100.0    0.0  100.0   100.0  2021 Maryland Eastern Shore\n",
      "1674   100.0    0.0  100.0   100.0                    2021 Penn\n",
      "1682   100.0    0.0  100.0   100.0               2021 Princeton\n",
      "1802   100.0    0.0  100.0   100.0                    2021 Yale\n",
      "maximum value for ORPct: 100.0\n",
      "occurrences for max in ORPct: 10\n",
      "teams with maximum value for ORPct:       eFGPct  TOPct  ORPct  FTRate                    Team/Year\n",
      "1470   100.0    0.0  100.0   100.0         2021 Bethune Cookman\n",
      "1477   100.0    0.0  100.0   100.0                   2021 Brown\n",
      "1505   100.0    0.0  100.0   100.0                2021 Columbia\n",
      "1508   100.0    0.0  100.0   100.0                 2021 Cornell\n",
      "1510   100.0    0.0  100.0   100.0               2021 Dartmouth\n",
      "1556   100.0    0.0  100.0   100.0                 2021 Harvard\n",
      "1609   100.0    0.0  100.0   100.0  2021 Maryland Eastern Shore\n",
      "1674   100.0    0.0  100.0   100.0                    2021 Penn\n",
      "1682   100.0    0.0  100.0   100.0               2021 Princeton\n",
      "1802   100.0    0.0  100.0   100.0                    2021 Yale\n",
      "minimum value for eFGPct: 39.5794\n",
      "occurrences for min in eFGPct: 1\n",
      "teams with miniimum value for eFGPct:        eFGPct    TOPct    ORPct   FTRate      Team/Year\n",
      "3699  39.5794  21.2721  31.8213  31.7108  2015 Kentucky\n",
      "minimum value for TOPct: 0.0\n",
      "occurrences for min in TOPct: 10\n",
      "teams with miniimum value for TOPct:       eFGPct  TOPct  ORPct  FTRate                    Team/Year\n",
      "1470   100.0    0.0  100.0   100.0         2021 Bethune Cookman\n",
      "1477   100.0    0.0  100.0   100.0                   2021 Brown\n",
      "1505   100.0    0.0  100.0   100.0                2021 Columbia\n",
      "1508   100.0    0.0  100.0   100.0                 2021 Cornell\n",
      "1510   100.0    0.0  100.0   100.0               2021 Dartmouth\n",
      "1556   100.0    0.0  100.0   100.0                 2021 Harvard\n",
      "1609   100.0    0.0  100.0   100.0  2021 Maryland Eastern Shore\n",
      "1674   100.0    0.0  100.0   100.0                    2021 Penn\n",
      "1682   100.0    0.0  100.0   100.0               2021 Princeton\n",
      "1802   100.0    0.0  100.0   100.0                    2021 Yale\n",
      "minimum value for FTRate: 16.0068846815835\n",
      "occurrences for min in FTRate: 1\n",
      "teams with miniimum value for FTRate:         eFGPct      TOPct      ORPct     FTRate       Team/Year\n",
      "426  46.320998  10.976428  24.909747  16.006885  2024 Creighton\n",
      "minimum value for ORPct: 18.3844011142061\n",
      "occurrences for min in ORPct: 1\n",
      "teams with miniimum value for ORPct:          eFGPct      TOPct      ORPct     FTRate       Team/Year\n",
      "2534  48.804892  16.448943  18.384401  29.516398  2018 Boise St.\n"
     ]
    }
   ],
   "source": [
    "for col in numerical:\n",
    "    max=defense[col].max()\n",
    "    print(f'maximum value for {col}:', max)\n",
    "    max_rows=defense[col].value_counts()[max]\n",
    "    print(f'occurrences for max in {col}:', max_rows)\n",
    "    max_ids=defense[defense[col]==max]\n",
    "    print(f'teams with maximum value for {col}:',max_ids)\n",
    "    \n",
    "for col in numerical:\n",
    "    min=defense[col].min()\n",
    "    print(f'minimum value for {col}:', min)\n",
    "    min_rows=defense[col].value_counts()[min]\n",
    "    print(f'occurrences for min in {col}:', min_rows)\n",
    "    min_ids=defense[defense[col]==min]\n",
    "    print(f'teams with minimum value for {col}:',min_ids)"
   ]
  },
  {
   "cell_type": "markdown",
   "metadata": {},
   "source": [
    "Because a small number of teams share the outliers across all columns except TO Rate (these Ivy League teams did not play in 2021, leading their percentages to sit on 0 or 100), we can drop the outliers."
   ]
  },
  {
   "cell_type": "code",
   "execution_count": 22,
   "metadata": {},
   "outputs": [],
   "source": [
    "defense=defense[defense['ORPct'] != 100]\n"
   ]
  },
  {
   "cell_type": "code",
   "execution_count": 23,
   "metadata": {},
   "outputs": [
    {
     "name": "stdout",
     "output_type": "stream",
     "text": [
      "<class 'pandas.core.frame.DataFrame'>\n",
      "Index: 8304 entries, 0 to 8313\n",
      "Data columns (total 5 columns):\n",
      " #   Column     Non-Null Count  Dtype  \n",
      "---  ------     --------------  -----  \n",
      " 0   eFGPct     8304 non-null   float64\n",
      " 1   TOPct      8304 non-null   float64\n",
      " 2   ORPct      8304 non-null   float64\n",
      " 3   FTRate     8304 non-null   float64\n",
      " 4   Team/Year  8304 non-null   object \n",
      "dtypes: float64(4), object(1)\n",
      "memory usage: 389.2+ KB\n"
     ]
    }
   ],
   "source": [
    "defense.info()"
   ]
  },
  {
   "cell_type": "markdown",
   "metadata": {},
   "source": [
    "Bivariate Analysis-Pearson and Spearman Correlations "
   ]
  }
 ],
 "metadata": {
  "kernelspec": {
   "display_name": "Python 3",
   "language": "python",
   "name": "python3"
  },
  "language_info": {
   "codemirror_mode": {
    "name": "ipython",
    "version": 3
   },
   "file_extension": ".py",
   "mimetype": "text/x-python",
   "name": "python",
   "nbconvert_exporter": "python",
   "pygments_lexer": "ipython3",
   "version": "3.9.6"
  }
 },
 "nbformat": 4,
 "nbformat_minor": 2
}
