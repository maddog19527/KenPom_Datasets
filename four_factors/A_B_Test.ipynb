{
 "cells": [
  {
   "cell_type": "code",
   "execution_count": 1,
   "metadata": {},
   "outputs": [],
   "source": [
    "import numpy as np \n",
    "import pandas as pd \n",
    "import matplotlib.pyplot as plt\n",
    "import seaborn as sns\n",
    "import scipy.stats as stats\n",
    "import statsmodels.stats.api as sms\n",
    "from math import ceil\n",
    "\n",
    "FFO=pd.read_csv('AB.csv', index_col= 0)\n"
   ]
  },
  {
   "cell_type": "code",
   "execution_count": 2,
   "metadata": {},
   "outputs": [
    {
     "data": {
      "text/html": [
       "<div>\n",
       "<style scoped>\n",
       "    .dataframe tbody tr th:only-of-type {\n",
       "        vertical-align: middle;\n",
       "    }\n",
       "\n",
       "    .dataframe tbody tr th {\n",
       "        vertical-align: top;\n",
       "    }\n",
       "\n",
       "    .dataframe thead th {\n",
       "        text-align: right;\n",
       "    }\n",
       "</style>\n",
       "<table border=\"1\" class=\"dataframe\">\n",
       "  <thead>\n",
       "    <tr style=\"text-align: right;\">\n",
       "      <th></th>\n",
       "      <th>Team/Year</th>\n",
       "      <th>eFGPct</th>\n",
       "      <th>TOPct</th>\n",
       "      <th>ORPct</th>\n",
       "      <th>FTRate</th>\n",
       "      <th>Year</th>\n",
       "      <th>binnedOREB</th>\n",
       "    </tr>\n",
       "  </thead>\n",
       "  <tbody>\n",
       "    <tr>\n",
       "      <th>0</th>\n",
       "      <td>2025 Abilene Christian</td>\n",
       "      <td>47.456214</td>\n",
       "      <td>20.614869</td>\n",
       "      <td>28.205128</td>\n",
       "      <td>39.616347</td>\n",
       "      <td>2025</td>\n",
       "      <td>post-change</td>\n",
       "    </tr>\n",
       "    <tr>\n",
       "      <th>1</th>\n",
       "      <td>2025 Air Force</td>\n",
       "      <td>50.279107</td>\n",
       "      <td>20.779381</td>\n",
       "      <td>24.039653</td>\n",
       "      <td>37.240829</td>\n",
       "      <td>2025</td>\n",
       "      <td>post-change</td>\n",
       "    </tr>\n",
       "    <tr>\n",
       "      <th>2</th>\n",
       "      <td>2025 Akron</td>\n",
       "      <td>55.272346</td>\n",
       "      <td>17.293210</td>\n",
       "      <td>32.758621</td>\n",
       "      <td>24.441341</td>\n",
       "      <td>2025</td>\n",
       "      <td>post-change</td>\n",
       "    </tr>\n",
       "    <tr>\n",
       "      <th>3</th>\n",
       "      <td>2025 Alabama</td>\n",
       "      <td>56.504599</td>\n",
       "      <td>17.668644</td>\n",
       "      <td>37.049550</td>\n",
       "      <td>41.721419</td>\n",
       "      <td>2025</td>\n",
       "      <td>post-change</td>\n",
       "    </tr>\n",
       "    <tr>\n",
       "      <th>4</th>\n",
       "      <td>2025 Alabama A&amp;M</td>\n",
       "      <td>44.880677</td>\n",
       "      <td>21.762263</td>\n",
       "      <td>35.225956</td>\n",
       "      <td>37.875289</td>\n",
       "      <td>2025</td>\n",
       "      <td>post-change</td>\n",
       "    </tr>\n",
       "  </tbody>\n",
       "</table>\n",
       "</div>"
      ],
      "text/plain": [
       "                Team/Year     eFGPct      TOPct      ORPct     FTRate  Year  \\\n",
       "0  2025 Abilene Christian  47.456214  20.614869  28.205128  39.616347  2025   \n",
       "1          2025 Air Force  50.279107  20.779381  24.039653  37.240829  2025   \n",
       "2              2025 Akron  55.272346  17.293210  32.758621  24.441341  2025   \n",
       "3            2025 Alabama  56.504599  17.668644  37.049550  41.721419  2025   \n",
       "4        2025 Alabama A&M  44.880677  21.762263  35.225956  37.875289  2025   \n",
       "\n",
       "    binnedOREB  \n",
       "0  post-change  \n",
       "1  post-change  \n",
       "2  post-change  \n",
       "3  post-change  \n",
       "4  post-change  "
      ]
     },
     "execution_count": 2,
     "metadata": {},
     "output_type": "execute_result"
    }
   ],
   "source": [
    "FFO.head()"
   ]
  },
  {
   "cell_type": "code",
   "execution_count": 3,
   "metadata": {},
   "outputs": [
    {
     "name": "stdout",
     "output_type": "stream",
     "text": [
      "<class 'pandas.core.frame.DataFrame'>\n",
      "Index: 8304 entries, 0 to 8303\n",
      "Data columns (total 7 columns):\n",
      " #   Column      Non-Null Count  Dtype  \n",
      "---  ------      --------------  -----  \n",
      " 0   Team/Year   8304 non-null   object \n",
      " 1   eFGPct      8304 non-null   float64\n",
      " 2   TOPct       8304 non-null   float64\n",
      " 3   ORPct       8304 non-null   float64\n",
      " 4   FTRate      8304 non-null   float64\n",
      " 5   Year        8304 non-null   int64  \n",
      " 6   binnedOREB  8304 non-null   object \n",
      "dtypes: float64(4), int64(1), object(2)\n",
      "memory usage: 519.0+ KB\n"
     ]
    }
   ],
   "source": [
    "FFO.info()"
   ]
  },
  {
   "cell_type": "markdown",
   "metadata": {},
   "source": [
    "Hypothesis: The NCAA moved the men's three point line back in 2019. I want to conduct a hypothesis test to determine whether the change in shot distance has affected the percentage of shots that are rebounded by the offensive team.\n",
    "If the hypothesis is true, this would indicate a change in the strategic approach of coaches to the game."
   ]
  },
  {
   "cell_type": "markdown",
   "metadata": {},
   "source": [
    "We will set up two tests; the first, taking the entire datasets using "
   ]
  },
  {
   "cell_type": "code",
   "execution_count": 4,
   "metadata": {},
   "outputs": [],
   "source": [
    "pre_change=FFO[FFO['binnedOREB'] == 'pre-change']\n",
    "post_change=FFO[FFO['binnedOREB'] == 'post-change']"
   ]
  },
  {
   "cell_type": "code",
   "execution_count": 5,
   "metadata": {},
   "outputs": [
    {
     "name": "stdout",
     "output_type": "stream",
     "text": [
      "<class 'pandas.core.frame.DataFrame'>\n",
      "Index: 6157 entries, 2147 to 8303\n",
      "Data columns (total 7 columns):\n",
      " #   Column      Non-Null Count  Dtype  \n",
      "---  ------      --------------  -----  \n",
      " 0   Team/Year   6157 non-null   object \n",
      " 1   eFGPct      6157 non-null   float64\n",
      " 2   TOPct       6157 non-null   float64\n",
      " 3   ORPct       6157 non-null   float64\n",
      " 4   FTRate      6157 non-null   float64\n",
      " 5   Year        6157 non-null   int64  \n",
      " 6   binnedOREB  6157 non-null   object \n",
      "dtypes: float64(4), int64(1), object(2)\n",
      "memory usage: 384.8+ KB\n"
     ]
    }
   ],
   "source": [
    "pre_change.info()"
   ]
  },
  {
   "cell_type": "code",
   "execution_count": 6,
   "metadata": {},
   "outputs": [
    {
     "name": "stdout",
     "output_type": "stream",
     "text": [
      "<class 'pandas.core.frame.DataFrame'>\n",
      "Index: 2147 entries, 0 to 2146\n",
      "Data columns (total 7 columns):\n",
      " #   Column      Non-Null Count  Dtype  \n",
      "---  ------      --------------  -----  \n",
      " 0   Team/Year   2147 non-null   object \n",
      " 1   eFGPct      2147 non-null   float64\n",
      " 2   TOPct       2147 non-null   float64\n",
      " 3   ORPct       2147 non-null   float64\n",
      " 4   FTRate      2147 non-null   float64\n",
      " 5   Year        2147 non-null   int64  \n",
      " 6   binnedOREB  2147 non-null   object \n",
      "dtypes: float64(4), int64(1), object(2)\n",
      "memory usage: 134.2+ KB\n"
     ]
    }
   ],
   "source": [
    "post_change.info()"
   ]
  },
  {
   "cell_type": "code",
   "execution_count": 7,
   "metadata": {},
   "outputs": [
    {
     "data": {
      "image/png": "[encoded data removed]",
      "text/plain": [
       "<Figure size 640x480 with 1 Axes>"
      ]
     },
     "metadata": {},
     "output_type": "display_data"
    }
   ],
   "source": [
    "ax = pre_change['ORPct'].plot.hist()"
   ]
  },
  {
   "cell_type": "code",
   "execution_count": 8,
   "metadata": {},
   "outputs": [
    {
     "data": {
      "image/png": "[encoded data removed]",
      "text/plain": [
       "<Figure size 640x480 with 1 Axes>"
      ]
     },
     "metadata": {},
     "output_type": "display_data"
    }
   ],
   "source": [
    "ax = post_change['ORPct'].plot.hist()"
   ]
  },
  {
   "cell_type": "code",
   "execution_count": 9,
   "metadata": {},
   "outputs": [
    {
     "name": "stdout",
     "output_type": "stream",
     "text": [
      "the offensive rebounding percentages increased significantly after the three-point line was moved back.\n"
     ]
    }
   ],
   "source": [
    "alpha=0.05\n",
    "t_stat, p_val = stats.ttest_ind(pre_change['ORPct'],post_change['ORPct'], equal_var=False, alternative='greater')\n",
    "if p_val < alpha:\n",
    "    print('the offensive rebounding percentages increased significantly after the three-point line was moved back.')\n",
    "elif p_val > alpha:\n",
    "    print('the difference is not statistically significant')\n"
   ]
  },
  {
   "cell_type": "code",
   "execution_count": 10,
   "metadata": {},
   "outputs": [],
   "source": [
    "import random\n",
    "a_sample = random.sample(sorted(pre_change['ORPct']),100)\n",
    "b_sample = random.sample(sorted(post_change['ORPct']),100)"
   ]
  },
  {
   "cell_type": "code",
   "execution_count": 11,
   "metadata": {},
   "outputs": [
    {
     "data": {
      "text/plain": [
       "(array([ 2.,  3.,  5.,  9., 15., 17., 21., 14., 11.,  3.]),\n",
       " array([18.91025641, 21.01997077, 23.12968513, 25.23939949, 27.34911385,\n",
       "        29.45882821, 31.56854256, 33.67825692, 35.78797128, 37.89768564,\n",
       "        40.0074    ]),\n",
       " <BarContainer object of 10 artists>)"
      ]
     },
     "execution_count": 11,
     "metadata": {},
     "output_type": "execute_result"
    },
    {
     "data": {
      "image/png": "[encoded data removed]",
      "text/plain": [
       "<Figure size 640x480 with 1 Axes>"
      ]
     },
     "metadata": {},
     "output_type": "display_data"
    }
   ],
   "source": [
    "plt.hist(a_sample)"
   ]
  },
  {
   "cell_type": "code",
   "execution_count": 12,
   "metadata": {},
   "outputs": [
    {
     "data": {
      "text/plain": [
       "(array([ 3.,  9.,  7., 17., 22., 21.,  8.,  7.,  4.,  2.]),\n",
       " array([19.9807877 , 21.93210387, 23.88342004, 25.83473621, 27.78605238,\n",
       "        29.73736855, 31.68868472, 33.64000089, 35.59131706, 37.54263323,\n",
       "        39.49394939]),\n",
       " <BarContainer object of 10 artists>)"
      ]
     },
     "execution_count": 12,
     "metadata": {},
     "output_type": "execute_result"
    },
    {
     "data": {
      "image/png": "[encoded data removed]",
      "text/plain": [
       "<Figure size 640x480 with 1 Axes>"
      ]
     },
     "metadata": {},
     "output_type": "display_data"
    }
   ],
   "source": [
    "plt.hist(b_sample)"
   ]
  },
  {
   "cell_type": "code",
   "execution_count": 15,
   "metadata": {},
   "outputs": [
    {
     "name": "stdout",
     "output_type": "stream",
     "text": [
      "the offensive rebounding percentages increased significantly after the three-point line was moved back.\n"
     ]
    }
   ],
   "source": [
    "alpha = 0.05\n",
    "\n",
    "t_stat, p_val = stats.ttest_rel(a_sample,b_sample, alternative='greater')\n",
    "if p_val < alpha:\n",
    "    print('the offensive rebounding percentages increased significantly after the three-point line was moved back.')\n",
    "elif p_val > alpha:\n",
    "    print('the difference is not statistically significant')"
   ]
  }
 ],
 "metadata": {
  "kernelspec": {
   "display_name": "Python 3",
   "language": "python",
   "name": "python3"
  },
  "language_info": {
   "codemirror_mode": {
    "name": "ipython",
    "version": 3
   },
   "file_extension": ".py",
   "mimetype": "text/x-python",
   "name": "python",
   "nbconvert_exporter": "python",
   "pygments_lexer": "ipython3",
   "version": "3.9.6"
  }
 },
 "nbformat": 4,
 "nbformat_minor": 2
}
