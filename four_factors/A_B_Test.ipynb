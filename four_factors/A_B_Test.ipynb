{
 "cells": [
  {
   "cell_type": "code",
   "execution_count": 6,
   "metadata": {},
   "outputs": [],
   "source": [
    "import numpy as np \n",
    "import pandas as pd \n",
    "import matplotlib.pyplot as plt\n",
    "import seaborn as sns\n",
    "import scipy.stats as stats\n",
    "import statsmodels.stats.api as sms\n",
    "from math import ceil\n",
    "\n",
    "FFO=pd.read_csv('AB.csv')\n",
    "FFO.drop(columns=['Unnamed: 0'],inplace=True, axis=1)\n"
   ]
  },
  {
   "cell_type": "code",
   "execution_count": 7,
   "metadata": {},
   "outputs": [
    {
     "data": {
      "text/html": [
       "<div>\n",
       "<style scoped>\n",
       "    .dataframe tbody tr th:only-of-type {\n",
       "        vertical-align: middle;\n",
       "    }\n",
       "\n",
       "    .dataframe tbody tr th {\n",
       "        vertical-align: top;\n",
       "    }\n",
       "\n",
       "    .dataframe thead th {\n",
       "        text-align: right;\n",
       "    }\n",
       "</style>\n",
       "<table border=\"1\" class=\"dataframe\">\n",
       "  <thead>\n",
       "    <tr style=\"text-align: right;\">\n",
       "      <th></th>\n",
       "      <th>Team/Year</th>\n",
       "      <th>eFGPct</th>\n",
       "      <th>TOPct</th>\n",
       "      <th>ORPct</th>\n",
       "      <th>FTRate</th>\n",
       "      <th>Year</th>\n",
       "      <th>binnedOREB</th>\n",
       "    </tr>\n",
       "  </thead>\n",
       "  <tbody>\n",
       "    <tr>\n",
       "      <th>0</th>\n",
       "      <td>2025 Abilene Christian</td>\n",
       "      <td>47.456214</td>\n",
       "      <td>20.614869</td>\n",
       "      <td>28.205128</td>\n",
       "      <td>39.616347</td>\n",
       "      <td>2025</td>\n",
       "      <td>post-change</td>\n",
       "    </tr>\n",
       "    <tr>\n",
       "      <th>1</th>\n",
       "      <td>2025 Air Force</td>\n",
       "      <td>50.279107</td>\n",
       "      <td>20.779381</td>\n",
       "      <td>24.039653</td>\n",
       "      <td>37.240829</td>\n",
       "      <td>2025</td>\n",
       "      <td>post-change</td>\n",
       "    </tr>\n",
       "    <tr>\n",
       "      <th>2</th>\n",
       "      <td>2025 Akron</td>\n",
       "      <td>55.272346</td>\n",
       "      <td>17.293210</td>\n",
       "      <td>32.758621</td>\n",
       "      <td>24.441341</td>\n",
       "      <td>2025</td>\n",
       "      <td>post-change</td>\n",
       "    </tr>\n",
       "    <tr>\n",
       "      <th>3</th>\n",
       "      <td>2025 Alabama</td>\n",
       "      <td>56.504599</td>\n",
       "      <td>17.668644</td>\n",
       "      <td>37.049550</td>\n",
       "      <td>41.721419</td>\n",
       "      <td>2025</td>\n",
       "      <td>post-change</td>\n",
       "    </tr>\n",
       "    <tr>\n",
       "      <th>4</th>\n",
       "      <td>2025 Alabama A&amp;M</td>\n",
       "      <td>44.880677</td>\n",
       "      <td>21.762263</td>\n",
       "      <td>35.225956</td>\n",
       "      <td>37.875289</td>\n",
       "      <td>2025</td>\n",
       "      <td>post-change</td>\n",
       "    </tr>\n",
       "  </tbody>\n",
       "</table>\n",
       "</div>"
      ],
      "text/plain": [
       "                Team/Year     eFGPct      TOPct      ORPct     FTRate  Year  \\\n",
       "0  2025 Abilene Christian  47.456214  20.614869  28.205128  39.616347  2025   \n",
       "1          2025 Air Force  50.279107  20.779381  24.039653  37.240829  2025   \n",
       "2              2025 Akron  55.272346  17.293210  32.758621  24.441341  2025   \n",
       "3            2025 Alabama  56.504599  17.668644  37.049550  41.721419  2025   \n",
       "4        2025 Alabama A&M  44.880677  21.762263  35.225956  37.875289  2025   \n",
       "\n",
       "    binnedOREB  \n",
       "0  post-change  \n",
       "1  post-change  \n",
       "2  post-change  \n",
       "3  post-change  \n",
       "4  post-change  "
      ]
     },
     "execution_count": 7,
     "metadata": {},
     "output_type": "execute_result"
    }
   ],
   "source": [
    "FFO.head()"
   ]
  },
  {
   "cell_type": "code",
   "execution_count": 9,
   "metadata": {},
   "outputs": [
    {
     "name": "stdout",
     "output_type": "stream",
     "text": [
      "<class 'pandas.core.frame.DataFrame'>\n",
      "RangeIndex: 8304 entries, 0 to 8303\n",
      "Data columns (total 7 columns):\n",
      " #   Column      Non-Null Count  Dtype  \n",
      "---  ------      --------------  -----  \n",
      " 0   Team/Year   8304 non-null   object \n",
      " 1   eFGPct      8304 non-null   float64\n",
      " 2   TOPct       8304 non-null   float64\n",
      " 3   ORPct       8304 non-null   float64\n",
      " 4   FTRate      8304 non-null   float64\n",
      " 5   Year        8304 non-null   int64  \n",
      " 6   binnedOREB  8304 non-null   object \n",
      "dtypes: float64(4), int64(1), object(2)\n",
      "memory usage: 454.2+ KB\n"
     ]
    }
   ],
   "source": [
    "FFO.info()"
   ]
  },
  {
   "cell_type": "markdown",
   "metadata": {},
   "source": [
    "Hypothesis: The NCAA moved the men's three point line back in 2019. I want to conduct a hypothesis test to determine whether the change in shot distance has affected the percentage of shots that are rebounded by the offensive team.\n",
    "If the hypothesis is true, this would indicate a change in the strategic approach of coaches to the game."
   ]
  },
  {
   "cell_type": "markdown",
   "metadata": {},
   "source": [
    "First, we must determine how many samples we need to pull from our dataset to conduct the experiment. "
   ]
  },
  {
   "cell_type": "code",
   "execution_count": 10,
   "metadata": {},
   "outputs": [
    {
     "name": "stdout",
     "output_type": "stream",
     "text": [
      "3825\n"
     ]
    }
   ],
   "source": [
    "effect_size = sms.proportion_effectsize(0.31, 0.34)    # Calculating effect size based on our expected rates\n",
    "\n",
    "required_n = sms.NormalIndPower().solve_power(\n",
    "    effect_size, \n",
    "    power=0.8, \n",
    "    alpha=0.05, \n",
    "    ratio=1\n",
    "    )                                                  # Calculating sample size needed\n",
    "\n",
    "required_n = ceil(required_n)                          # Rounding up to next whole number                          \n",
    "\n",
    "print(required_n)"
   ]
  },
  {
   "cell_type": "code",
   "execution_count": null,
   "metadata": {},
   "outputs": [],
   "source": []
  }
 ],
 "metadata": {
  "kernelspec": {
   "display_name": "Python 3",
   "language": "python",
   "name": "python3"
  },
  "language_info": {
   "codemirror_mode": {
    "name": "ipython",
    "version": 3
   },
   "file_extension": ".py",
   "mimetype": "text/x-python",
   "name": "python",
   "nbconvert_exporter": "python",
   "pygments_lexer": "ipython3",
   "version": "3.9.6"
  }
 },
 "nbformat": 4,
 "nbformat_minor": 2
}
